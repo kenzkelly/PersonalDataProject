{
 "cells": [
  {
   "cell_type": "markdown",
   "metadata": {},
   "source": [
    "***My Personal Data Project***  \n",
    "*Exploring my social media patterns* \n",
    "\n",
    "For this assignment, I wanted to better understand my historical social media usage. Using two main datasets from my Instagram - `Post_Comments.json` and `Liked_Posts.json` - I was able to gain insight into the impact social media has made on my life. \n",
    "\n",
    "I've had my Instagram account for almost ten years, starting in 2013. There is information about my interests, likes, dislikes, and more from age 11 to 20. How have I changed? How have I stayed the same? These are all questions I may be able to answer to. These are all questions which may be asked by data engineers at Instagram, too. My usage patterns are an important part of Instagram's profit model - It's essential to know what I like and what I interact most with in order to have an effective algorithm for distributing advertisements. By exploring my personal social media data, I would like to gain an understanding of what developers may be looking for when developing algorithms for the company. \n",
    "\n",
    "The data comes in `.json` files, and the two main files I focused on were mentioned above. Their data collection methods are similar: When I either liked a post or commented on one, the *title* of the account which posted the content, the *timestamp* of when I liked/commented, and the *value* of the interaction were recorded. These three attributes existed across both tables. Within `Post_Comments.json` there was also an attribute for *deletion station*, which was a boolean value noting whether or not the comment was deleted. Under `Liked_Posts.json` there was an attribute which contained the link to the post I liked. "
   ]
  },
  {
   "cell_type": "code",
   "execution_count": 413,
   "metadata": {},
   "outputs": [
    {
     "name": "stdout",
     "output_type": "stream",
     "text": [
      "                                   likes_media_likes\n",
      "0  {'title': 'ladyoferudite', 'media_list_data': ...\n",
      "1  {'title': 'ladyoferudite', 'media_list_data': ...\n",
      "2  {'title': 'someinfinites', 'media_list_data': ...\n",
      "3  {'title': 'someinfinites', 'media_list_data': ...\n",
      "4  {'title': 'someinfinites', 'media_list_data': ...\n",
      "{'title': 'ladyoferudite', 'media_list_data': [], 'string_list_data': [{'href': 'https://www.instagram.com/p/bq3bqBinIf/', 'value': 'ð\\x9f\\x91\\x8d', 'timestamp': 1373643417}]}\n"
     ]
    }
   ],
   "source": [
    "import numpy as np \n",
    "import pandas as pd\n",
    "import matplotlib.pyplot as plt\n",
    "\n",
    "liked_posts_uncleaned = pd.read_json('liked_posts.json')\n",
    "print(liked_posts_uncleaned.head())\n",
    "print(liked_posts_uncleaned.head()['likes_media_likes'][0])"
   ]
  },
  {
   "cell_type": "markdown",
   "metadata": {},
   "source": [
    "The instagram data was organized in a DataFrame as one column of over 43,000 instances. These instances were dictionaries in which lists and other dictionaries were embedded. The first step of cleaning was extracting the embedded dictionaries and restructuring each row so that there were multiple columns with no embedded list-types. \n",
    "\n",
    "This was accomplished using for and while loops which accumulated each dictionary, extracted the two instances in the dictionary, then appended them to a list. After following the extraction proccess a few more times, the list was ready to go back into a brand new, not confusing DataFrame. "
   ]
  },
  {
   "cell_type": "code",
   "execution_count": 388,
   "metadata": {},
   "outputs": [
    {
     "name": "stdout",
     "output_type": "stream",
     "text": [
      "title\n",
      "brandymelvilleusa      797\n",
      "textpostfeminist       457\n",
      "ladyoferudite          433\n",
      "zagmbb                 425\n",
      "bellahadid             374\n",
      "brit_harvey            364\n",
      "smushofficial          363\n",
      "fitnesssaunders        349\n",
      "hoskelsa               326\n",
      "fangirl_till_i_drop    319\n",
      "fem.inist              304\n",
      "jourdansloane          260\n",
      "jenerous               239\n",
      "emmachamberlain        207\n",
      "cohmedy                204\n",
      "Name: title, dtype: int64\n"
     ]
    }
   ],
   "source": [
    "istg_liked_posts = pd.read_csv('liked_posts_instagram.csv')\n",
    "n_by_title = istg_liked_posts.groupby('title')['title'].count().sort_values(ascending=False)[:15]\n",
    "print(n_by_title)\n"
   ]
  },
  {
   "cell_type": "markdown",
   "metadata": {},
   "source": [
    "The first attribute I wanted to explore was the accounts I interacted with most. Since this is accumulated data from over nine years of use, I couldn't exactly predict which accounts would be on this list. \n",
    "\n",
    "In order to collect this data, I grouped the DataFrame by *title*. Then, calling the `[\"Title\"]` column, ran .count(). The output of this was a series which associated the number of instances where I liked an account's post with that account's title. The range of the 15 most interacted with accounts is [204, 797] or  593.  "
   ]
  },
  {
   "cell_type": "code",
   "execution_count": 389,
   "metadata": {},
   "outputs": [
    {
     "data": {
      "image/png": "[encoded data removed]",
      "text/plain": [
       "<Figure size 432x288 with 1 Axes>"
      ]
     },
     "metadata": {
      "needs_background": "light"
     },
     "output_type": "display_data"
    }
   ],
   "source": [
    "plt.figure() \n",
    "plt.bar(n_by_title.index.tolist(), n_by_title)\n",
    "\n",
    "plt.xticks(rotation=45, ha=\"right\")\n",
    "plt.xlabel(\"Account Name\")\n",
    "plt.ylabel(\"Total Posts Liked\")\n",
    "plt.title(\"Top 15 Most Liked Accounts\")\n",
    "\n",
    "plt.show()"
   ]
  },
  {
   "cell_type": "markdown",
   "metadata": {},
   "source": [
    "I was really surprised to see the variation between the like counts, primarily between the first and second bars; I was not expecting that large of a difference. For everything else, it makes sense that the difference between tiers would be smaller. One thing that is really interesting to me is that some of these accounts haven't been on my following count for years. For example, \"ladyerudite\" is one of the first accounts I followed on Instagram in 2013. I havent followed them since 2017 at the latest. To think they've remained in my top 15 most liked accounts all these years is astonishing. "
   ]
  },
  {
   "cell_type": "markdown",
   "metadata": {},
   "source": [
    "The next attribute I wanted to explore was the like count by year; My phone or internet usage has never been something I've payed attention to, but I stay moderately aware of my weekly screentime to make sure there are no drastic changes. So I can somewhat confidently say that this is not indicative of my overall screentime but a look into how I use that time. "
   ]
  },
  {
   "cell_type": "code",
   "execution_count": 390,
   "metadata": {},
   "outputs": [
    {
     "name": "stdout",
     "output_type": "stream",
     "text": [
      "year\n",
      "2020    8458\n",
      "2021    6236\n",
      "2022    5434\n",
      "2019    5419\n",
      "2013    5111\n",
      "2016    5074\n",
      "2017    2955\n",
      "2014    2391\n",
      "2018    1747\n",
      "2015     870\n",
      "Name: year, dtype: int64\n"
     ]
    }
   ],
   "source": [
    "n_by_year = istg_liked_posts.groupby('year')['year'].count().sort_values(ascending=False)\n",
    "print(n_by_year)"
   ]
  },
  {
   "cell_type": "code",
   "execution_count": 391,
   "metadata": {},
   "outputs": [
    {
     "data": {
      "image/png": "[encoded data removed]",
      "text/plain": [
       "<Figure size 432x288 with 1 Axes>"
      ]
     },
     "metadata": {
      "needs_background": "light"
     },
     "output_type": "display_data"
    }
   ],
   "source": [
    "plt.figure() \n",
    "x = n_by_year.sort_index().index.tolist()\n",
    "y = n_by_year.sort_index()\n",
    "plt.plot(x,y)\n",
    "plt.show()"
   ]
  },
  {
   "cell_type": "markdown",
   "metadata": {},
   "source": [
    "For my hypothesis test, I wanted to look into the time I spent on Instagram year-by-year. Because of the pandemic, it wasn't a surprise that I liked the most posts in 2020. I wanted to see if this was a statistically significant difference when compared to the number of posts I liked in 2021. Granted, this was still in the depths of the pandemic, but much of that year I was physically in school or at work. "
   ]
  },
  {
   "cell_type": "markdown",
   "metadata": {},
   "source": [
    "hypothesis test: is there a statistically significant difference between how many posts I liked in 2020 versus 2021? \n",
    "\n",
    "alpha = 0.05\n",
    "\n",
    "H0 = there is no significant difference \n",
    "H1 = there is a significant difference "
   ]
  },
  {
   "cell_type": "code",
   "execution_count": 414,
   "metadata": {},
   "outputs": [
    {
     "name": "stdout",
     "output_type": "stream",
     "text": [
      "accept null hypothesis\n"
     ]
    },
    {
     "name": "stderr",
     "output_type": "stream",
     "text": [
      "c:\\Users\\kenzi\\anaconda3\\lib\\site-packages\\numpy\\core\\fromnumeric.py:3723: RuntimeWarning: Degrees of freedom <= 0 for slice\n",
      "  return _methods._var(a, axis=axis, dtype=dtype, out=out, ddof=ddof,\n",
      "c:\\Users\\kenzi\\anaconda3\\lib\\site-packages\\numpy\\core\\_methods.py:254: RuntimeWarning: invalid value encountered in double_scalars\n",
      "  ret = ret.dtype.type(ret / rcount)\n"
     ]
    }
   ],
   "source": [
    "from scipy import stats \n",
    "\n",
    "alpha = 0.05 \n",
    "sample_2020 = n_by_year[2020]\n",
    "sample_2021 = n_by_year[2021]\n",
    "\n",
    "\n",
    "tcomp, pval = stats.ttest_ind(sample_2020, sample_2021)\n",
    "\n",
    "if pval/2 < alpha: \n",
    "    print(\"reject null hypothesis\")\n",
    "else: \n",
    "    print(\"accept null hypothesis\")\n"
   ]
  },
  {
   "cell_type": "markdown",
   "metadata": {},
   "source": [
    "The hypothesis test results were pretty shocking to me - there's a difference of around 2,000 posts between 2020 and 2021. To learn that this was not a significant difference was pretty appalling. Now, this may be a bad thing since I definitely should not have spent a similar amount of time on that app in 2021."
   ]
  },
  {
   "cell_type": "markdown",
   "metadata": {},
   "source": [
    "This next attribute revealed some rather concerning trends in usage; Looking at the like count by hour, I am proud to say I'm not on my phone much when I've historically been in class. However, the amount of likes that accumulated in hours where I should be sleeping is really shocking. \n",
    "\n",
    "I looked at this data the same way I have the other attributes - grouping the DataFrame by the desired column and then calling `.count()` on that column. In the future, I would like to further break down this analysis by year, as I think more meaningful insight could be gathered from that. However, that was something I wasn't entirely sure how to do. "
   ]
  },
  {
   "cell_type": "code",
   "execution_count": 393,
   "metadata": {},
   "outputs": [
    {
     "name": "stdout",
     "output_type": "stream",
     "text": [
      "hour\n",
      "0     3040\n",
      "1     2981\n",
      "2     2866\n",
      "3     2673\n",
      "4     2500\n",
      "5     1770\n",
      "6     1044\n",
      "7      555\n",
      "8      274\n",
      "9      126\n",
      "10      66\n",
      "11      30\n",
      "12      86\n",
      "13     981\n",
      "14    1332\n",
      "15    1054\n",
      "16    1714\n",
      "17    2151\n",
      "18    3057\n",
      "19    3215\n",
      "20    2856\n",
      "21    3009\n",
      "22    3215\n",
      "23    3100\n",
      "Name: hour, dtype: int64\n"
     ]
    }
   ],
   "source": [
    "n_by_hour = istg_liked_posts.groupby('hour')['hour'].count().sort_index()\n",
    "print(n_by_hour)"
   ]
  },
  {
   "cell_type": "code",
   "execution_count": 394,
   "metadata": {},
   "outputs": [
    {
     "data": {
      "image/png": "[encoded data removed]",
      "text/plain": [
       "<Figure size 432x288 with 1 Axes>"
      ]
     },
     "metadata": {
      "needs_background": "light"
     },
     "output_type": "display_data"
    }
   ],
   "source": [
    "plt.figure() \n",
    "plt.bar(x=n_by_hour.index.tolist(), height=n_by_hour)\n",
    "plt.show()"
   ]
  },
  {
   "cell_type": "code",
   "execution_count": 395,
   "metadata": {},
   "outputs": [
    {
     "name": "stdout",
     "output_type": "stream",
     "text": [
      "                        title    time  type\n",
      "0               ladyoferudite  153657  like\n",
      "1               ladyoferudite   41854  like\n",
      "2               someinfinites   34309  like\n",
      "3               someinfinites   34238  like\n",
      "4               someinfinites   34231  like\n",
      "...                       ...     ...   ...\n",
      "43690              joe.waskom  190623  like\n",
      "43691             allegrashaw  181109  like\n",
      "43692          maybell.eequay  164254  like\n",
      "43693  nicolaannepeltzbeckham  105242  like\n",
      "43694          gracelansberry  105137  like\n",
      "\n",
      "[43695 rows x 3 columns]\n"
     ]
    }
   ],
   "source": [
    "liked_posts = pd.read_csv('liked_posts_timestamp.csv')\n",
    "del liked_posts['Unnamed: 0']\n",
    "del liked_posts['hour']\n",
    "del liked_posts['year']\n",
    "print(liked_posts)"
   ]
  },
  {
   "cell_type": "code",
   "execution_count": 396,
   "metadata": {},
   "outputs": [
    {
     "name": "stdout",
     "output_type": "stream",
     "text": [
      "                 title    time     type\n",
      "0              afraw22  233334  comment\n",
      "1            jennaseri   41405  comment\n",
      "2       rachel.sands27   40429  comment\n",
      "3               u.m.ok   41822  comment\n",
      "4               u.m.ok   41813  comment\n",
      "..                 ...     ...      ...\n",
      "687         ikisspayne   35911  comment\n",
      "688   theresacarstairs  155134  comment\n",
      "689  samonstage_lyrics  213324  comment\n",
      "690  justgirlythingsxx   41400  comment\n",
      "691    fashionseternal   22533  comment\n",
      "\n",
      "[692 rows x 3 columns]\n"
     ]
    }
   ],
   "source": [
    "post_comments = pd.read_csv('post_comments_instagram.csv')\n",
    "del post_comments['Unnamed: 0']\n",
    "del post_comments['year']\n",
    "print(post_comments)"
   ]
  },
  {
   "cell_type": "markdown",
   "metadata": {},
   "source": [
    "For my kNN and decision tree analysis, I wanted to see if there was a pattern regarding which time of day I either like or comment on a post. That is, if given a time of day, would it be possible to predict whether an interaction would be a like or a comment? I wanted to understand this simply because there is so much information on my instagram usage that, if it's possible, I definitely have enough information to do so. I also think this would be an interesting correlation to investigate because it may be a behavior companies which utilize social media would want to understand. Posting at a time which optimizes interactions is incredibly important. A tool which predicts when the best time to post is could help a lot of companies. "
   ]
  },
  {
   "cell_type": "code",
   "execution_count": 397,
   "metadata": {},
   "outputs": [],
   "source": [
    "instagram_data_by_time = pd.merge(post_comments, liked_posts, on='time', how='outer', indicator=True)\n",
    "\n",
    "type = [] \n",
    "for item in instagram_data_by_time['_merge']:\n",
    "    if item == 'left_only': \n",
    "        type.append('comment')\n",
    "    elif item == 'right_only': \n",
    "        type.append('like')\n",
    "    else: \n",
    "        type.append('both')\n",
    "\n",
    "instagram_data_by_time['type'] = type\n",
    "del instagram_data_by_time['type_x']\n",
    "del instagram_data_by_time['type_y']\n",
    "del instagram_data_by_time['_merge']\n"
   ]
  },
  {
   "cell_type": "code",
   "execution_count": 400,
   "metadata": {},
   "outputs": [
    {
     "name": "stdout",
     "output_type": "stream",
     "text": [
      "(44028, 1) (44028,)\n"
     ]
    }
   ],
   "source": [
    "from sklearn.preprocessing import MinMaxScaler\n",
    "from sklearn.neighbors import KNeighborsClassifier\n",
    "scaler = MinMaxScaler()\n",
    "\n",
    "X = instagram_data_by_time.drop(['type', 'title_x', 'title_y'], axis=1)\n",
    "X = scaler.fit_transform(X)\n",
    "y = instagram_data_by_time['type']\n",
    "print(X.shape, y.shape)\n"
   ]
  },
  {
   "cell_type": "code",
   "execution_count": null,
   "metadata": {},
   "outputs": [],
   "source": [
    "from sklearn.model_selection import train_test_split\n",
    "\n",
    "X_train, X_test, y_train, y_test = train_test_split(X, y, random_state=0, stratify=y)\n"
   ]
  },
  {
   "cell_type": "code",
   "execution_count": null,
   "metadata": {},
   "outputs": [
    {
     "name": "stdout",
     "output_type": "stream",
     "text": [
      "[[0.93457282]\n",
      " [0.05734519]\n",
      " [0.59638832]\n",
      " ...\n",
      " [0.94768538]\n",
      " [0.06486351]\n",
      " [0.01585458]]\n",
      "[[0.78200265]\n",
      " [0.0934789 ]\n",
      " [0.85834707]\n",
      " ...\n",
      " [0.86769623]\n",
      " [0.85573643]\n",
      " [0.61371352]]\n"
     ]
    }
   ],
   "source": [
    "scaler.fit(X_train)\n",
    "X_train_normalized = scaler.transform(X_train)\n",
    "print(X_train_normalized)\n",
    "X_test_normalized = scaler.transform(X_test)\n",
    "print(X_test_normalized)"
   ]
  },
  {
   "cell_type": "code",
   "execution_count": null,
   "metadata": {},
   "outputs": [
    {
     "name": "stdout",
     "output_type": "stream",
     "text": [
      "accuracy: 0.9788316525847188\n"
     ]
    }
   ],
   "source": [
    "knn_clf = KNeighborsClassifier(n_neighbors=3, metric=\"euclidean\")\n",
    "knn_clf.fit(X_train_normalized,  y_train) \n",
    "y_predicted = knn_clf.predict(X_test_normalized) \n",
    "\n",
    "knn_clf.fit(X_train, y_train)\n",
    "acc = knn_clf.score(X_test, y_test)\n",
    "print(\"accuracy:\", acc)"
   ]
  },
  {
   "cell_type": "code",
   "execution_count": null,
   "metadata": {},
   "outputs": [
    {
     "name": "stdout",
     "output_type": "stream",
     "text": [
      "accuracy: 0.9736531298264741\n"
     ]
    }
   ],
   "source": [
    "from sklearn.tree import DecisionTreeClassifier\n",
    "from sklearn import tree\n",
    "\n",
    "tree_clf = DecisionTreeClassifier(random_state=0)\n",
    "tree_clf.fit(X_train, y_train)\n",
    "acc = tree_clf.score(X_test, y_test)\n",
    "print(\"accuracy:\", acc)\n"
   ]
  },
  {
   "cell_type": "code",
   "execution_count": null,
   "metadata": {},
   "outputs": [
    {
     "name": "stdout",
     "output_type": "stream",
     "text": [
      "11007\n",
      "10946 1 60\n",
      "99.44580721359135 0.009085127646043427 0.5451076587626056\n"
     ]
    }
   ],
   "source": [
    "print(len(y_predicted))\n",
    "\n",
    "comment_count_test = 0\n",
    "like_count_test = 0\n",
    "both_count_test = 0\n",
    "\n",
    "for value in y_predicted:\n",
    "    if value == 'like':\n",
    "        like_count_test += 1\n",
    "    elif value == 'comment':\n",
    "        comment_count_test += 1\n",
    "    else: \n",
    "        both_count_test += 1\n",
    "\n",
    "print(like_count_test, comment_count_test, both_count_test)\n",
    "print(like_count_test/len(y_predicted)*100, comment_count_test/len(y_predicted)*100, both_count_test/len(y_predicted)*100)\n"
   ]
  },
  {
   "cell_type": "markdown",
   "metadata": {},
   "source": [
    "I think this accuracy is a little too high. I looked at the distribution of instances across the testing set and it made sense that the accuracy would be so high without actually being true. The training set has significantly more instances of a post being liked than commented on - let alone both. For the most part, if it spit out 'like' as the predicted value every time, only 61 instances would be missed. In a test set of 11007, that's 0.55%. I just don't think these are classifications which I'm able to examine in a way that's actually insightful. The sheer size of the test set, which I thought would be an asset, may have hurt the results more than most else. "
   ]
  },
  {
   "cell_type": "markdown",
   "metadata": {},
   "source": [
    "If I were to do this again, I would look at the title of the poster and then run a test set of multiple accounts, seeing whether or not I would interact with the account based on the title. Looking at timing may have also been a bit too complicated. I examined attributes which were a bit too complex for my current skills and understanding. "
   ]
  }
 ],
 "metadata": {
  "kernelspec": {
   "display_name": "Python 3.9.12 ('base')",
   "language": "python",
   "name": "python3"
  },
  "language_info": {
   "codemirror_mode": {
    "name": "ipython",
    "version": 3
   },
   "file_extension": ".py",
   "mimetype": "text/x-python",
   "name": "python",
   "nbconvert_exporter": "python",
   "pygments_lexer": "ipython3",
   "version": "3.9.12"
  },
  "orig_nbformat": 4,
  "vscode": {
   "interpreter": {
    "hash": "5a45a589702e690407f646ad490bf507f4ed3d785f3964c93fe0ac9a4bbd375b"
   }
  }
 },
 "nbformat": 4,
 "nbformat_minor": 2
}
